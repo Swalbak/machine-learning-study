{
  "nbformat": 4,
  "nbformat_minor": 0,
  "metadata": {
    "colab": {
      "name": "데이터의 유형",
      "provenance": [],
      "collapsed_sections": [],
      "authorship_tag": "ABX9TyO+W7f2Mow9/yrqV0n9pt/r",
      "include_colab_link": true
    },
    "kernelspec": {
      "name": "python3",
      "display_name": "Python 3"
    },
    "language_info": {
      "name": "python"
    }
  },
  "cells": [
    {
      "cell_type": "markdown",
      "metadata": {
        "id": "view-in-github",
        "colab_type": "text"
      },
      "source": [
        "<a href=\"https://colab.research.google.com/github/Swalbak/machine-learning-study/blob/main/%EB%8D%B0%EC%9D%B4%ED%84%B0%EC%9D%98_%EC%9C%A0%ED%98%95.ipynb\" target=\"_parent\"><img src=\"https://colab.research.google.com/assets/colab-badge.svg\" alt=\"Open In Colab\"/></a>"
      ]
    },
    {
      "cell_type": "markdown",
      "source": [
        "# 데이터의 유형\n",
        "\n",
        "\n",
        "\n",
        "###1.   데이터 속성에 따른 분류\n",
        "\n",
        "\n",
        "> 양적 데이터(정량적): 수학 연산(덧셈. 뺄셈 등)이 가능한 데이터  \n",
        "*   연속형: 연속적인 값을 가지는 데이터(ex 키, 몸무게 등)\n",
        "*   이산형: counting할 수 있는 데이터(ex 사람, 물건 수 등)  \n",
        ">  \n",
        ">  \n",
        "> 질적 데이터(정성적): 범주형 데이터, 수학 연산이 불가능한 데이터  \n",
        "*  순서형: 순서가 정해져 있는 데이터(ex A+, A0, B+, ... 대학 성적 등 - 해당 데이터 사이의 사칙 연산은 불가하며 무의미하다.)\n",
        "*  명목형: 순위가 따로 없는 데이터(ex 성별-남/여)\n",
        "\n",
        "  \n",
        "###2.   측정의 수준에 따른 분류\n",
        ">* 명목 척도: 관찰 대상의 속성 분류를 위해 이름을 대신하는 숫자나 기호를 부여하는 척도(ex 성별, 직업 등)\n",
        ">*비율 척도: 측정하고자 하는 속성의 실제 양을 수치로 나타낸 것, 절대 0점이 기준(ex 키, 몸무게 등)\n",
        ">*등간 척도: 일정한 간격이 있는 척도 상에 대상이 가지고 있는 정도를 수치로 나타낸 것, 임의의 0점(ex 온도 등)\n",
        ">*순서 척도: 단지 관찰대상의 순위만을 나타내는 수치를 부여(ex 등수 등)\n",
        "\n"
      ],
      "metadata": {
        "id": "9VUkJE6soyHt"
      }
    },
    {
      "cell_type": "markdown",
      "source": [
        "# 척도에 대한 추가적인 개념\n",
        "* 명목 척도  \n",
        "\n",
        ">   측정 대상의 고유한 특성에 따라 분류하거나 확인할 목적으로, 동일한 특성을 갖는 대상은 동일한 수치를 갖게 된다. 따라서 데이터들의 관계는 상호 배타적이다.(수치가 가지는 의미는 없음) 따라서 한 특성에 대해 수치를 부여했다면, 다른 특성에 대해서는 다른 번호를 부여해야 한다.\n",
        "\n",
        "---\n",
        "* 순위 척도  \n",
        "\n",
        "> 측정 대상의 특성의 많고 적음 또는 대소의 서열에 따른 수치를 부여한 데이터. 즉 특성에 따라 순서대로 배열한 후, 순위에 따라 1, 2, 3 등의 수치를 부여하는 방식. 단 해당 수치는 순서에 대한 의미만을 가지며, 정확한 값을 나타내는 것은 아님(1등의 성적이 3등의 성적보다 3배 더 좋은것은 아님)\n",
        "\n",
        "---\n",
        "* 등간 척도\n",
        "\n",
        ">절대적 원점 0이 존재하지 않으며, 특성의 양적 차이에 따라 순위를 수치로 부여한 것. 즉 순위 사이의 간격을 양적으로 비교할 수 있는 척도.(대표적인 예시로 온도, 0라고 해서 온도가 아예 없는 상태라고 말할 수 없음, 100도가 50도의 두배라고 말할 수 없음 - 절대적 원점 0이 아니기 때문)\n",
        "\n",
        "---\n",
        "* 비율 척도\n",
        "\n",
        ">등간 척도와 비교했을 때 절대적 원점 0이 존재하며, 따라서 비율의 계산이 가능한 것.(시험 점수 - 0점은 점수가 없는 것으로 판단 가능(절대적 원점 0))\n"
      ],
      "metadata": {
        "id": "MRSXHaekuQGu"
      }
    }
  ]
}